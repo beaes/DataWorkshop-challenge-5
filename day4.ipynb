{
  "nbformat": 4,
  "nbformat_minor": 0,
  "metadata": {
    "colab": {
      "name": "day4.ipynb",
      "provenance": [],
      "collapsed_sections": [],
      "mount_file_id": "1cQ3c9QojXOH6cGOwbz3I8AIrQXs22gCw",
      "authorship_tag": "ABX9TyNCe2R1GazkoHZppvUNkT5m",
      "include_colab_link": true
    },
    "kernelspec": {
      "name": "python3",
      "display_name": "Python 3"
    }
  },
  "cells": [
    {
      "cell_type": "markdown",
      "metadata": {
        "id": "view-in-github",
        "colab_type": "text"
      },
      "source": [
        "<a href=\"https://colab.research.google.com/github/beaes/DataWorkshop-challenge-5/blob/master/day4.ipynb\" target=\"_parent\"><img src=\"https://colab.research.google.com/assets/colab-badge.svg\" alt=\"Open In Colab\"/></a>"
      ]
    },
    {
      "cell_type": "code",
      "metadata": {
        "id": "daJVHUgbqDYQ",
        "colab_type": "code",
        "colab": {}
      },
      "source": [
        "import pandas as pd\n",
        "import numpy as np\n",
        "from fbprophet import Prophet\n",
        "\n",
        "import matplotlib.pyplot as plt\n",
        "%matplotlib inline"
      ],
      "execution_count": 0,
      "outputs": []
    },
    {
      "cell_type": "code",
      "metadata": {
        "id": "Y1eENRDaqSJu",
        "colab_type": "code",
        "colab": {
          "base_uri": "https://localhost:8080/",
          "height": 206
        },
        "outputId": "cbc802ff-f971-4ec9-b14f-23feb1cb1d9f"
      },
      "source": [
        "path = ('https://raw.githubusercontent.com/dataworkshop/5dwchallenge_2019/master/challenge5/input/mauna_loa.csv')\n",
        "df = pd.read_csv(path)\n",
        "df.head()"
      ],
      "execution_count": 2,
      "outputs": [
        {
          "output_type": "execute_result",
          "data": {
            "text/html": [
              "<div>\n",
              "<style scoped>\n",
              "    .dataframe tbody tr th:only-of-type {\n",
              "        vertical-align: middle;\n",
              "    }\n",
              "\n",
              "    .dataframe tbody tr th {\n",
              "        vertical-align: top;\n",
              "    }\n",
              "\n",
              "    .dataframe thead th {\n",
              "        text-align: right;\n",
              "    }\n",
              "</style>\n",
              "<table border=\"1\" class=\"dataframe\">\n",
              "  <thead>\n",
              "    <tr style=\"text-align: right;\">\n",
              "      <th></th>\n",
              "      <th>year</th>\n",
              "      <th>month</th>\n",
              "      <th>day</th>\n",
              "      <th>decimal</th>\n",
              "      <th>ppm</th>\n",
              "      <th>#days</th>\n",
              "      <th>1 yr ago</th>\n",
              "      <th>10 yr ago</th>\n",
              "      <th>since 1800</th>\n",
              "    </tr>\n",
              "  </thead>\n",
              "  <tbody>\n",
              "    <tr>\n",
              "      <th>0</th>\n",
              "      <td>1974</td>\n",
              "      <td>5</td>\n",
              "      <td>19</td>\n",
              "      <td>1974.3795</td>\n",
              "      <td>333.34</td>\n",
              "      <td>6</td>\n",
              "      <td>-999.99</td>\n",
              "      <td>-999.99</td>\n",
              "      <td>50.36</td>\n",
              "    </tr>\n",
              "    <tr>\n",
              "      <th>1</th>\n",
              "      <td>1974</td>\n",
              "      <td>5</td>\n",
              "      <td>26</td>\n",
              "      <td>1974.3986</td>\n",
              "      <td>332.95</td>\n",
              "      <td>6</td>\n",
              "      <td>-999.99</td>\n",
              "      <td>-999.99</td>\n",
              "      <td>50.06</td>\n",
              "    </tr>\n",
              "    <tr>\n",
              "      <th>2</th>\n",
              "      <td>1974</td>\n",
              "      <td>6</td>\n",
              "      <td>2</td>\n",
              "      <td>1974.4178</td>\n",
              "      <td>332.32</td>\n",
              "      <td>5</td>\n",
              "      <td>-999.99</td>\n",
              "      <td>-999.99</td>\n",
              "      <td>49.57</td>\n",
              "    </tr>\n",
              "    <tr>\n",
              "      <th>3</th>\n",
              "      <td>1974</td>\n",
              "      <td>6</td>\n",
              "      <td>9</td>\n",
              "      <td>1974.4370</td>\n",
              "      <td>332.18</td>\n",
              "      <td>7</td>\n",
              "      <td>-999.99</td>\n",
              "      <td>-999.99</td>\n",
              "      <td>49.63</td>\n",
              "    </tr>\n",
              "    <tr>\n",
              "      <th>4</th>\n",
              "      <td>1974</td>\n",
              "      <td>6</td>\n",
              "      <td>16</td>\n",
              "      <td>1974.4562</td>\n",
              "      <td>332.37</td>\n",
              "      <td>7</td>\n",
              "      <td>-999.99</td>\n",
              "      <td>-999.99</td>\n",
              "      <td>50.07</td>\n",
              "    </tr>\n",
              "  </tbody>\n",
              "</table>\n",
              "</div>"
            ],
            "text/plain": [
              "   year  month  day    decimal     ppm  #days  1 yr ago  10 yr ago  since 1800\n",
              "0  1974      5   19  1974.3795  333.34      6   -999.99    -999.99       50.36\n",
              "1  1974      5   26  1974.3986  332.95      6   -999.99    -999.99       50.06\n",
              "2  1974      6    2  1974.4178  332.32      5   -999.99    -999.99       49.57\n",
              "3  1974      6    9  1974.4370  332.18      7   -999.99    -999.99       49.63\n",
              "4  1974      6   16  1974.4562  332.37      7   -999.99    -999.99       50.07"
            ]
          },
          "metadata": {
            "tags": []
          },
          "execution_count": 2
        }
      ]
    },
    {
      "cell_type": "code",
      "metadata": {
        "id": "auz-B-5LqnAv",
        "colab_type": "code",
        "colab": {}
      },
      "source": [
        "df['date'] = pd.to_datetime(df [['year', 'month', 'day' ]] )"
      ],
      "execution_count": 0,
      "outputs": []
    },
    {
      "cell_type": "code",
      "metadata": {
        "id": "c301eyeuqsB_",
        "colab_type": "code",
        "colab": {}
      },
      "source": [
        "df['ppm_fixed'] = df['ppm'].map(lambda x: np.nan if x < 0 else x)\n",
        "df['ppm_fixed'].fillna(method='backfill', inplace=True)"
      ],
      "execution_count": 0,
      "outputs": []
    },
    {
      "cell_type": "code",
      "metadata": {
        "id": "ubDKG5b4q17V",
        "colab_type": "code",
        "colab": {
          "base_uri": "https://localhost:8080/",
          "height": 265
        },
        "outputId": "c8e890f9-201a-4560-e1c6-08cbc9938cf3"
      },
      "source": [
        "plt.plot(df.date, df.ppm_fixed);"
      ],
      "execution_count": 5,
      "outputs": [
        {
          "output_type": "display_data",
          "data": {
            "image/png": "[encoded data removed]",
            "text/plain": [
              "<Figure size 432x288 with 1 Axes>"
            ]
          },
          "metadata": {
            "tags": [],
            "needs_background": "light"
          }
        }
      ]
    },
    {
      "cell_type": "code",
      "metadata": {
        "id": "aDU3GLtDrCfN",
        "colab_type": "code",
        "colab": {
          "base_uri": "https://localhost:8080/",
          "height": 265
        },
        "outputId": "85fbdfa2-3b5b-4104-adf6-2e3fc96f17e6"
      },
      "source": [
        "cut_year = 2008\n",
        "train = df[df.year < cut_year]\n",
        "test = df[df.year >= cut_year]\n",
        "\n",
        "plt.plot(train.date, train.ppm_fixed, label='train');\n",
        "plt.plot(test.date, test.ppm_fixed, label='test');\n",
        "plt.legend();\n",
        "\n",
        "#teraz chcemy dane trenowac na jednym podzbiorze a prognozowac na innym\n",
        "#czyli trenujemy sie na tym kawalku co oznaczono na wykresie kolorem niebieskim a to co jest pomaranczowe udajemy ze tego nie znamy i to prognozujemy"
      ],
      "execution_count": 6,
      "outputs": [
        {
          "output_type": "display_data",
          "data": {
            "image/png": "[encoded data removed]",
            "text/plain": [
              "<Figure size 432x288 with 1 Axes>"
            ]
          },
          "metadata": {
            "tags": [],
            "needs_background": "light"
          }
        }
      ]
    },
    {
      "cell_type": "markdown",
      "metadata": {
        "id": "P-XAmhjHrw-f",
        "colab_type": "text"
      },
      "source": [
        "#Prophet\n"
      ]
    },
    {
      "cell_type": "code",
      "metadata": {
        "id": "WaoPXFLOr17b",
        "colab_type": "code",
        "colab": {
          "base_uri": "https://localhost:8080/",
          "height": 206
        },
        "outputId": "c76bb819-6cb8-4737-c74d-e3ca55e4255b"
      },
      "source": [
        "fb_df = train[ ['date', 'ppm_fixed']].copy()\n",
        "fb_df.columns = ['ds', 'y']\n",
        "\n",
        "fb_df.head()\n",
        "# w tym modelu jedna kolumna to os czasu (czyli ds u nas) a druga to sa wartosci (u nas to jest y)"
      ],
      "execution_count": 7,
      "outputs": [
        {
          "output_type": "execute_result",
          "data": {
            "text/html": [
              "<div>\n",
              "<style scoped>\n",
              "    .dataframe tbody tr th:only-of-type {\n",
              "        vertical-align: middle;\n",
              "    }\n",
              "\n",
              "    .dataframe tbody tr th {\n",
              "        vertical-align: top;\n",
              "    }\n",
              "\n",
              "    .dataframe thead th {\n",
              "        text-align: right;\n",
              "    }\n",
              "</style>\n",
              "<table border=\"1\" class=\"dataframe\">\n",
              "  <thead>\n",
              "    <tr style=\"text-align: right;\">\n",
              "      <th></th>\n",
              "      <th>ds</th>\n",
              "      <th>y</th>\n",
              "    </tr>\n",
              "  </thead>\n",
              "  <tbody>\n",
              "    <tr>\n",
              "      <th>0</th>\n",
              "      <td>1974-05-19</td>\n",
              "      <td>333.34</td>\n",
              "    </tr>\n",
              "    <tr>\n",
              "      <th>1</th>\n",
              "      <td>1974-05-26</td>\n",
              "      <td>332.95</td>\n",
              "    </tr>\n",
              "    <tr>\n",
              "      <th>2</th>\n",
              "      <td>1974-06-02</td>\n",
              "      <td>332.32</td>\n",
              "    </tr>\n",
              "    <tr>\n",
              "      <th>3</th>\n",
              "      <td>1974-06-09</td>\n",
              "      <td>332.18</td>\n",
              "    </tr>\n",
              "    <tr>\n",
              "      <th>4</th>\n",
              "      <td>1974-06-16</td>\n",
              "      <td>332.37</td>\n",
              "    </tr>\n",
              "  </tbody>\n",
              "</table>\n",
              "</div>"
            ],
            "text/plain": [
              "          ds       y\n",
              "0 1974-05-19  333.34\n",
              "1 1974-05-26  332.95\n",
              "2 1974-06-02  332.32\n",
              "3 1974-06-09  332.18\n",
              "4 1974-06-16  332.37"
            ]
          },
          "metadata": {
            "tags": []
          },
          "execution_count": 7
        }
      ]
    },
    {
      "cell_type": "code",
      "metadata": {
        "id": "XPx8zCyStR3L",
        "colab_type": "code",
        "colab": {
          "base_uri": "https://localhost:8080/",
          "height": 72
        },
        "outputId": "80724a34-bd50-410b-f5ad-1398410e6686"
      },
      "source": [
        "m = Prophet()\n",
        "m.fit(fb_df)"
      ],
      "execution_count": 8,
      "outputs": [
        {
          "output_type": "stream",
          "text": [
            "INFO:fbprophet:Disabling weekly seasonality. Run prophet with weekly_seasonality=True to override this.\n",
            "INFO:fbprophet:Disabling daily seasonality. Run prophet with daily_seasonality=True to override this.\n"
          ],
          "name": "stderr"
        },
        {
          "output_type": "execute_result",
          "data": {
            "text/plain": [
              "<fbprophet.forecaster.Prophet at 0x7f13982f5048>"
            ]
          },
          "metadata": {
            "tags": []
          },
          "execution_count": 8
        }
      ]
    },
    {
      "cell_type": "code",
      "metadata": {
        "id": "byWlDzCJt5A0",
        "colab_type": "code",
        "colab": {
          "base_uri": "https://localhost:8080/",
          "height": 206
        },
        "outputId": "7e499c77-89a6-4e55-eb6e-d417c426c373"
      },
      "source": [
        "future = m.make_future_dataframe(periods=len(test), freq='W', include_history=False)\n",
        "future.head()"
      ],
      "execution_count": 9,
      "outputs": [
        {
          "output_type": "execute_result",
          "data": {
            "text/html": [
              "<div>\n",
              "<style scoped>\n",
              "    .dataframe tbody tr th:only-of-type {\n",
              "        vertical-align: middle;\n",
              "    }\n",
              "\n",
              "    .dataframe tbody tr th {\n",
              "        vertical-align: top;\n",
              "    }\n",
              "\n",
              "    .dataframe thead th {\n",
              "        text-align: right;\n",
              "    }\n",
              "</style>\n",
              "<table border=\"1\" class=\"dataframe\">\n",
              "  <thead>\n",
              "    <tr style=\"text-align: right;\">\n",
              "      <th></th>\n",
              "      <th>ds</th>\n",
              "    </tr>\n",
              "  </thead>\n",
              "  <tbody>\n",
              "    <tr>\n",
              "      <th>0</th>\n",
              "      <td>2008-01-06</td>\n",
              "    </tr>\n",
              "    <tr>\n",
              "      <th>1</th>\n",
              "      <td>2008-01-13</td>\n",
              "    </tr>\n",
              "    <tr>\n",
              "      <th>2</th>\n",
              "      <td>2008-01-20</td>\n",
              "    </tr>\n",
              "    <tr>\n",
              "      <th>3</th>\n",
              "      <td>2008-01-27</td>\n",
              "    </tr>\n",
              "    <tr>\n",
              "      <th>4</th>\n",
              "      <td>2008-02-03</td>\n",
              "    </tr>\n",
              "  </tbody>\n",
              "</table>\n",
              "</div>"
            ],
            "text/plain": [
              "          ds\n",
              "0 2008-01-06\n",
              "1 2008-01-13\n",
              "2 2008-01-20\n",
              "3 2008-01-27\n",
              "4 2008-02-03"
            ]
          },
          "metadata": {
            "tags": []
          },
          "execution_count": 9
        }
      ]
    },
    {
      "cell_type": "code",
      "metadata": {
        "id": "RwZI13k_uK_F",
        "colab_type": "code",
        "colab": {
          "base_uri": "https://localhost:8080/",
          "height": 206
        },
        "outputId": "96d0f55d-6f0c-47b5-fd02-9169c4af3c1a"
      },
      "source": [
        "test.tail()"
      ],
      "execution_count": 10,
      "outputs": [
        {
          "output_type": "execute_result",
          "data": {
            "text/html": [
              "<div>\n",
              "<style scoped>\n",
              "    .dataframe tbody tr th:only-of-type {\n",
              "        vertical-align: middle;\n",
              "    }\n",
              "\n",
              "    .dataframe tbody tr th {\n",
              "        vertical-align: top;\n",
              "    }\n",
              "\n",
              "    .dataframe thead th {\n",
              "        text-align: right;\n",
              "    }\n",
              "</style>\n",
              "<table border=\"1\" class=\"dataframe\">\n",
              "  <thead>\n",
              "    <tr style=\"text-align: right;\">\n",
              "      <th></th>\n",
              "      <th>year</th>\n",
              "      <th>month</th>\n",
              "      <th>day</th>\n",
              "      <th>decimal</th>\n",
              "      <th>ppm</th>\n",
              "      <th>#days</th>\n",
              "      <th>1 yr ago</th>\n",
              "      <th>10 yr ago</th>\n",
              "      <th>since 1800</th>\n",
              "      <th>date</th>\n",
              "      <th>ppm_fixed</th>\n",
              "    </tr>\n",
              "  </thead>\n",
              "  <tbody>\n",
              "    <tr>\n",
              "      <th>2316</th>\n",
              "      <td>2018</td>\n",
              "      <td>10</td>\n",
              "      <td>7</td>\n",
              "      <td>2018.7658</td>\n",
              "      <td>405.58</td>\n",
              "      <td>7</td>\n",
              "      <td>403.38</td>\n",
              "      <td>382.78</td>\n",
              "      <td>129.25</td>\n",
              "      <td>2018-10-07</td>\n",
              "      <td>405.58</td>\n",
              "    </tr>\n",
              "    <tr>\n",
              "      <th>2317</th>\n",
              "      <td>2018</td>\n",
              "      <td>10</td>\n",
              "      <td>14</td>\n",
              "      <td>2018.7849</td>\n",
              "      <td>406.00</td>\n",
              "      <td>6</td>\n",
              "      <td>403.81</td>\n",
              "      <td>382.92</td>\n",
              "      <td>129.45</td>\n",
              "      <td>2018-10-14</td>\n",
              "      <td>406.00</td>\n",
              "    </tr>\n",
              "    <tr>\n",
              "      <th>2318</th>\n",
              "      <td>2018</td>\n",
              "      <td>10</td>\n",
              "      <td>21</td>\n",
              "      <td>2018.8041</td>\n",
              "      <td>406.62</td>\n",
              "      <td>7</td>\n",
              "      <td>404.04</td>\n",
              "      <td>383.04</td>\n",
              "      <td>129.77</td>\n",
              "      <td>2018-10-21</td>\n",
              "      <td>406.62</td>\n",
              "    </tr>\n",
              "    <tr>\n",
              "      <th>2319</th>\n",
              "      <td>2018</td>\n",
              "      <td>10</td>\n",
              "      <td>28</td>\n",
              "      <td>2018.8233</td>\n",
              "      <td>406.48</td>\n",
              "      <td>6</td>\n",
              "      <td>404.07</td>\n",
              "      <td>383.96</td>\n",
              "      <td>129.29</td>\n",
              "      <td>2018-10-28</td>\n",
              "      <td>406.48</td>\n",
              "    </tr>\n",
              "    <tr>\n",
              "      <th>2320</th>\n",
              "      <td>2018</td>\n",
              "      <td>11</td>\n",
              "      <td>4</td>\n",
              "      <td>2018.8425</td>\n",
              "      <td>406.99</td>\n",
              "      <td>5</td>\n",
              "      <td>404.26</td>\n",
              "      <td>383.80</td>\n",
              "      <td>129.43</td>\n",
              "      <td>2018-11-04</td>\n",
              "      <td>406.99</td>\n",
              "    </tr>\n",
              "  </tbody>\n",
              "</table>\n",
              "</div>"
            ],
            "text/plain": [
              "      year  month  day    decimal  ...  10 yr ago  since 1800       date  ppm_fixed\n",
              "2316  2018     10    7  2018.7658  ...     382.78      129.25 2018-10-07     405.58\n",
              "2317  2018     10   14  2018.7849  ...     382.92      129.45 2018-10-14     406.00\n",
              "2318  2018     10   21  2018.8041  ...     383.04      129.77 2018-10-21     406.62\n",
              "2319  2018     10   28  2018.8233  ...     383.96      129.29 2018-10-28     406.48\n",
              "2320  2018     11    4  2018.8425  ...     383.80      129.43 2018-11-04     406.99\n",
              "\n",
              "[5 rows x 11 columns]"
            ]
          },
          "metadata": {
            "tags": []
          },
          "execution_count": 10
        }
      ]
    },
    {
      "cell_type": "code",
      "metadata": {
        "id": "zZbHjXc1uMlI",
        "colab_type": "code",
        "colab": {
          "base_uri": "https://localhost:8080/",
          "height": 226
        },
        "outputId": "6f389f0e-9d7f-4ba3-bae6-3e650a84f749"
      },
      "source": [
        "forecast = m.predict(future)\n",
        "forecast.head()\n",
        "\n",
        "#teraz przechodzimy do prognozowania i najbardziej nas interesuje yhat bo to jest ta wartosc prognozowana"
      ],
      "execution_count": 11,
      "outputs": [
        {
          "output_type": "execute_result",
          "data": {
            "text/html": [
              "<div>\n",
              "<style scoped>\n",
              "    .dataframe tbody tr th:only-of-type {\n",
              "        vertical-align: middle;\n",
              "    }\n",
              "\n",
              "    .dataframe tbody tr th {\n",
              "        vertical-align: top;\n",
              "    }\n",
              "\n",
              "    .dataframe thead th {\n",
              "        text-align: right;\n",
              "    }\n",
              "</style>\n",
              "<table border=\"1\" class=\"dataframe\">\n",
              "  <thead>\n",
              "    <tr style=\"text-align: right;\">\n",
              "      <th></th>\n",
              "      <th>ds</th>\n",
              "      <th>trend</th>\n",
              "      <th>yhat_lower</th>\n",
              "      <th>yhat_upper</th>\n",
              "      <th>trend_lower</th>\n",
              "      <th>trend_upper</th>\n",
              "      <th>additive_terms</th>\n",
              "      <th>additive_terms_lower</th>\n",
              "      <th>additive_terms_upper</th>\n",
              "      <th>yearly</th>\n",
              "      <th>yearly_lower</th>\n",
              "      <th>yearly_upper</th>\n",
              "      <th>multiplicative_terms</th>\n",
              "      <th>multiplicative_terms_lower</th>\n",
              "      <th>multiplicative_terms_upper</th>\n",
              "      <th>yhat</th>\n",
              "    </tr>\n",
              "  </thead>\n",
              "  <tbody>\n",
              "    <tr>\n",
              "      <th>0</th>\n",
              "      <td>2008-01-06</td>\n",
              "      <td>385.044879</td>\n",
              "      <td>384.378221</td>\n",
              "      <td>385.436371</td>\n",
              "      <td>385.044879</td>\n",
              "      <td>385.044879</td>\n",
              "      <td>-0.118980</td>\n",
              "      <td>-0.118980</td>\n",
              "      <td>-0.118980</td>\n",
              "      <td>-0.118980</td>\n",
              "      <td>-0.118980</td>\n",
              "      <td>-0.118980</td>\n",
              "      <td>0.0</td>\n",
              "      <td>0.0</td>\n",
              "      <td>0.0</td>\n",
              "      <td>384.925899</td>\n",
              "    </tr>\n",
              "    <tr>\n",
              "      <th>1</th>\n",
              "      <td>2008-01-13</td>\n",
              "      <td>385.085336</td>\n",
              "      <td>384.619819</td>\n",
              "      <td>385.693744</td>\n",
              "      <td>385.085336</td>\n",
              "      <td>385.085336</td>\n",
              "      <td>0.055268</td>\n",
              "      <td>0.055268</td>\n",
              "      <td>0.055268</td>\n",
              "      <td>0.055268</td>\n",
              "      <td>0.055268</td>\n",
              "      <td>0.055268</td>\n",
              "      <td>0.0</td>\n",
              "      <td>0.0</td>\n",
              "      <td>0.0</td>\n",
              "      <td>385.140604</td>\n",
              "    </tr>\n",
              "    <tr>\n",
              "      <th>2</th>\n",
              "      <td>2008-01-20</td>\n",
              "      <td>385.125792</td>\n",
              "      <td>384.865168</td>\n",
              "      <td>385.833245</td>\n",
              "      <td>385.125792</td>\n",
              "      <td>385.125792</td>\n",
              "      <td>0.224634</td>\n",
              "      <td>0.224634</td>\n",
              "      <td>0.224634</td>\n",
              "      <td>0.224634</td>\n",
              "      <td>0.224634</td>\n",
              "      <td>0.224634</td>\n",
              "      <td>0.0</td>\n",
              "      <td>0.0</td>\n",
              "      <td>0.0</td>\n",
              "      <td>385.350426</td>\n",
              "    </tr>\n",
              "    <tr>\n",
              "      <th>3</th>\n",
              "      <td>2008-01-27</td>\n",
              "      <td>385.166249</td>\n",
              "      <td>385.059181</td>\n",
              "      <td>386.079130</td>\n",
              "      <td>385.166249</td>\n",
              "      <td>385.166249</td>\n",
              "      <td>0.384813</td>\n",
              "      <td>0.384813</td>\n",
              "      <td>0.384813</td>\n",
              "      <td>0.384813</td>\n",
              "      <td>0.384813</td>\n",
              "      <td>0.384813</td>\n",
              "      <td>0.0</td>\n",
              "      <td>0.0</td>\n",
              "      <td>0.0</td>\n",
              "      <td>385.551062</td>\n",
              "    </tr>\n",
              "    <tr>\n",
              "      <th>4</th>\n",
              "      <td>2008-02-03</td>\n",
              "      <td>385.206705</td>\n",
              "      <td>385.216848</td>\n",
              "      <td>386.213064</td>\n",
              "      <td>385.206705</td>\n",
              "      <td>385.206705</td>\n",
              "      <td>0.532063</td>\n",
              "      <td>0.532063</td>\n",
              "      <td>0.532063</td>\n",
              "      <td>0.532063</td>\n",
              "      <td>0.532063</td>\n",
              "      <td>0.532063</td>\n",
              "      <td>0.0</td>\n",
              "      <td>0.0</td>\n",
              "      <td>0.0</td>\n",
              "      <td>385.738768</td>\n",
              "    </tr>\n",
              "  </tbody>\n",
              "</table>\n",
              "</div>"
            ],
            "text/plain": [
              "          ds       trend  ...  multiplicative_terms_upper        yhat\n",
              "0 2008-01-06  385.044879  ...                         0.0  384.925899\n",
              "1 2008-01-13  385.085336  ...                         0.0  385.140604\n",
              "2 2008-01-20  385.125792  ...                         0.0  385.350426\n",
              "3 2008-01-27  385.166249  ...                         0.0  385.551062\n",
              "4 2008-02-03  385.206705  ...                         0.0  385.738768\n",
              "\n",
              "[5 rows x 16 columns]"
            ]
          },
          "metadata": {
            "tags": []
          },
          "execution_count": 11
        }
      ]
    },
    {
      "cell_type": "code",
      "metadata": {
        "id": "oilfEfUnuvUr",
        "colab_type": "code",
        "colab": {
          "base_uri": "https://localhost:8080/",
          "height": 265
        },
        "outputId": "92f10d85-dc60-4cc9-975e-c7e360711277"
      },
      "source": [
        "plt.plot(train.date, train.ppm_fixed, label='train');\n",
        "plt.plot(test.date, test.ppm_fixed, label='test');\n",
        "plt.plot(test.date, forecast.yhat, label='forecast');\n",
        "plt.legend();\n",
        "\n",
        "#teraz przechodzimy do wizualizacji tego yhat\n",
        "#niebieska kreska to zbior treningowy, pomaranczowa to zbior testowy a zielona to jest to co przewidzielismy"
      ],
      "execution_count": 12,
      "outputs": [
        {
          "output_type": "display_data",
          "data": {
            "image/png": "[encoded data removed]",
            "text/plain": [
              "<Figure size 432x288 with 1 Axes>"
            ]
          },
          "metadata": {
            "tags": [],
            "needs_background": "light"
          }
        }
      ]
    },
    {
      "cell_type": "code",
      "metadata": {
        "id": "U6968PkOvLDh",
        "colab_type": "code",
        "colab": {
          "base_uri": "https://localhost:8080/",
          "height": 265
        },
        "outputId": "0df77762-c9e9-477d-d03d-f75ae3b9a433"
      },
      "source": [
        "#plt.plot(train.date, train.ppm_fixed, label='train');\n",
        "plt.plot(test.date, test.ppm_fixed, label='test');\n",
        "plt.plot(test.date, forecast.yhat, label='forecast');\n",
        "plt.legend();"
      ],
      "execution_count": 13,
      "outputs": [
        {
          "output_type": "display_data",
          "data": {
            "image/png": "[encoded data removed]",
            "text/plain": [
              "<Figure size 432x288 with 1 Axes>"
            ]
          },
          "metadata": {
            "tags": [],
            "needs_background": "light"
          }
        }
      ]
    },
    {
      "cell_type": "code",
      "metadata": {
        "id": "gpz4LKJJv1W9",
        "colab_type": "code",
        "colab": {
          "base_uri": "https://localhost:8080/",
          "height": 441
        },
        "outputId": "969ad1e6-edcc-4bf7-f92f-99d6b4d9eb98"
      },
      "source": [
        "m.plot(forecast);\n",
        "#tutaj przedzial niepewnosci wzrasta z czasem"
      ],
      "execution_count": 14,
      "outputs": [
        {
          "output_type": "display_data",
          "data": {
            "image/png": "[encoded data removed]",
            "text/plain": [
              "<Figure size 720x432 with 1 Axes>"
            ]
          },
          "metadata": {
            "tags": []
          }
        }
      ]
    }
  ]
}